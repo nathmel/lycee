{
 "cells": [
  {
   "cell_type": "markdown",
   "metadata": {},
   "source": [
    "# TP INFO EN ACCOMPAGNEMENT DU TD03"
   ]
  },
  {
   "cell_type": "markdown",
   "metadata": {},
   "source": [
    "## 1. En respectant les indications (afficher les termes jusqu'à celui de rang 10)  \n",
    "> (**1.1.2**) Suite $(w_n)$ telle que, pour tout $n\\in\\mathbb{N}$, $w_n=\\dfrac{2n-3}{n+2}$"
   ]
  },
  {
   "cell_type": "code",
   "execution_count": null,
   "metadata": {},
   "outputs": [],
   "source": []
  },
  {
   "cell_type": "markdown",
   "metadata": {},
   "source": [
    "> (**1.2.2**) Suite $(y_n)$, telle que $y_1=-3$ et pour tout $n\\geq 1$, $y_{n+1}=y_n+2n$"
   ]
  },
  {
   "cell_type": "code",
   "execution_count": null,
   "metadata": {},
   "outputs": [],
   "source": []
  },
  {
   "cell_type": "markdown",
   "metadata": {},
   "source": [
    "## 2. Utiliser range(début, fin, pas)\n",
    "> Ajoutez les cellules (menu du haut : bouton \"+\"), et testez les programmes de la fiche de TD.  \n",
    "> Améliorez l'affichage avec `print('i=',i)`"
   ]
  },
  {
   "cell_type": "markdown",
   "metadata": {},
   "source": [
    "## 3. Comportement à l'infini"
   ]
  },
  {
   "cell_type": "markdown",
   "metadata": {},
   "source": [
    "## (**3.1.**) Suite $(w_n)$\n",
    "\n",
    "### (**3.1.1.**) \n",
    "> Utilisez la cellule ci-dessous pour calculer les termes de 10000 à 100000, avec un pas de 20000, de la suite $(w_n)$. Testez les deux programmes, changez les valeurs du `range` à votre guise pour pouvoir répondre aux questions qui suivent."
   ]
  },
  {
   "cell_type": "code",
   "execution_count": null,
   "metadata": {},
   "outputs": [],
   "source": []
  },
  {
   "cell_type": "markdown",
   "metadata": {},
   "source": [
    "#### Question : savez-vous si la suite $(w_n)$ est monotone ? Si oui, précisez. Peut-on le prouver, ou l'avons-nous déjà prouvé en classe ? \n",
    ">Faire `entrée` pour entrer dans cette cellule, puis répondre, puis `Ctrl entrée` pour en sortir.\n",
    ">> Réponse :\n"
   ]
  },
  {
   "cell_type": "markdown",
   "metadata": {},
   "source": [
    "#### Question : y a-t-il une valeur que la suite $(w_n)$ semble ne pas dépasser ?\n",
    ">Faire `entrée` pour entrer dans cette cellule, puis répondre, puis `Ctrl entrée` pour en sortir.\n",
    ">> Réponse :\n"
   ]
  },
  {
   "cell_type": "markdown",
   "metadata": {},
   "source": [
    "### (**3.1.2.**)  Recherche de seuils\n",
    "> Il y a une petite erreur dans le programme que je vous ai proposé (page 3). Corrigez-le et composez-le dans la cellule ci-dessous : le but est d'obtenir les valeurs proposées."
   ]
  },
  {
   "cell_type": "code",
   "execution_count": null,
   "metadata": {},
   "outputs": [],
   "source": []
  },
  {
   "cell_type": "markdown",
   "metadata": {},
   "source": [
    "> **À chaque itération `i`, la variable `e`est l'écart entre $y_i$ et 2.** Vous comprenez ?  \n",
    "> Comparez dans la cellule suivante les deux programmes de la page 4, et répondez à la question sur le document. (Ici il est important que `i=2`pour démarrer, et nous l'expliquerons plus tard)."
   ]
  },
  {
   "cell_type": "code",
   "execution_count": null,
   "metadata": {},
   "outputs": [],
   "source": []
  },
  {
   "cell_type": "markdown",
   "metadata": {},
   "source": [
    "### À propos de l'algorithme demadé page 4.\n",
    ">Composez dans la cellule ci-dessous un programme qui permet de déterminer à partir de quel entier $n_0$ l'écart $e$ sera tel que : $0<e<0.001$.  \n",
    ">> Réponse : $n_0=$ ..........."
   ]
  },
  {
   "cell_type": "code",
   "execution_count": null,
   "metadata": {},
   "outputs": [],
   "source": []
  },
  {
   "cell_type": "markdown",
   "metadata": {},
   "source": [
    "## (**3.2.**) Suite $(y_n)$\n",
    "> À votre tour !"
   ]
  }
 ],
 "metadata": {
  "kernelspec": {
   "display_name": "Python 3",
   "language": "python",
   "name": "python3"
  },
  "language_info": {
   "codemirror_mode": {
    "name": "ipython",
    "version": 3
   },
   "file_extension": ".py",
   "mimetype": "text/x-python",
   "name": "python",
   "nbconvert_exporter": "python",
   "pygments_lexer": "ipython3",
   "version": "3.7.0"
  }
 },
 "nbformat": 4,
 "nbformat_minor": 2
}
